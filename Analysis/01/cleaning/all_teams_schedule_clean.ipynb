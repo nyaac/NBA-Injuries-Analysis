{
 "cells": [
  {
   "cell_type": "code",
   "execution_count": 1,
   "metadata": {},
   "outputs": [
    {
     "name": "stdout",
     "output_type": "stream",
     "text": [
      "Cleaned dataset saved to /Users/nya/NBA project/NBA Project/01/clean datasets/teams_schedule_cleaned.csv\n"
     ]
    }
   ],
   "source": [
    "import pandas as pd\n",
    "import os\n",
    "\n",
    "#-----------------------------------------Load Files----------------------------------------\n",
    "\n",
    "schedule_df = pd.read_csv('/Users/nya/NBA project/NBA Project/00/scraped datasets/all_teams_schedule_2013_2023.csv')\n",
    "\n",
    "#---------------------------------------- Clean Data ----------------------------------------\n",
    "\n",
    "# clean up teams schedule\n",
    "# remove columns that are unnamed\n",
    "schedule_df = schedule_df.loc[:, ~schedule_df.columns.str.contains('^Unnamed')]\n",
    "\n",
    "# converting 'date' to datetime format\n",
    "schedule_df['Date'] = pd.to_datetime(schedule_df['Date'], format='%a, %b %d, %Y', errors='coerce')\n",
    "\n",
    "#---------------------#--------------------------Save Cleaned Data-----------------------------\n",
    "\n",
    "# directory to save cleaned files\n",
    "save_directory = '/Users/nya/NBA project/NBA Project/01/clean datasets'\n",
    "\n",
    "# define filepaths\n",
    "cleaned_data_path = os.path.join(save_directory, 'teams_schedule_cleaned.csv')\n",
    "\n",
    "# saving files\n",
    "schedule_df.to_csv(cleaned_data_path, index=False)\n",
    "\n",
    "print(f\"Cleaned dataset saved to {cleaned_data_path}\")"
   ]
  }
 ],
 "metadata": {
  "kernelspec": {
   "display_name": "venv",
   "language": "python",
   "name": "python3"
  },
  "language_info": {
   "codemirror_mode": {
    "name": "ipython",
    "version": 3
   },
   "file_extension": ".py",
   "mimetype": "text/x-python",
   "name": "python",
   "nbconvert_exporter": "python",
   "pygments_lexer": "ipython3",
   "version": "3.11.7"
  }
 },
 "nbformat": 4,
 "nbformat_minor": 2
}
