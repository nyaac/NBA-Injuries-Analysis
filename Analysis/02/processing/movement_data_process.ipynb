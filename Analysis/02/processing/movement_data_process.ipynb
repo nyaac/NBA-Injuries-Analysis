{
 "cells": [
  {
   "cell_type": "code",
   "execution_count": 1,
   "metadata": {},
   "outputs": [
    {
     "name": "stdout",
     "output_type": "stream",
     "text": [
      "Counting number of missed games\n",
      "Processed dataset saved to /Users/nya/NBA project/NBA Project/02/processed datasets/movement_data_processed.csv\n"
     ]
    }
   ],
   "source": [
    "import pandas as pd\n",
    "import numpy as np\n",
    "import os\n",
    "from datetime import timedelta\n",
    "from correlate_event_to_game_schedule import correlate_event_to_game_schedule\n",
    "from notes_filter import notes_filter\n",
    "\n",
    "#--------------------------User Inputs---------------------------------\n",
    "movement_data_file_path = '/Users/nya/NBA project/NBA Project/01/clean datasets/movement_data_cleaned.csv'\n",
    "schedule_file_path = '/Users/nya/NBA project/NBA Project/02/processed datasets/teams_schedule_processed.csv'\n",
    "\n",
    "#-------------------------Load Files-----------------------------------\n",
    "inactive_list_df = pd.read_csv(movement_data_file_path, parse_dates=['Date'])\n",
    "team_schedules_df = pd.read_csv(schedule_file_path, parse_dates=['Date'])\n",
    "\n",
    "#-----Processing - Section 1: Count Number of Missed Games--------\n",
    "print('Counting number of missed games')\n",
    "\n",
    "placed_on_IL_events_df = inactive_list_df[inactive_list_df['Acquired'].isnull()].copy()\n",
    "\n",
    "# Initialize new columns\n",
    "placed_on_IL_events_df['Reg_games_missed'] = np.nan\n",
    "placed_on_IL_events_df['Post_games_missed'] = np.nan\n",
    "placed_on_IL_events_df['Season'] = None\n",
    "placed_on_IL_events_df['Year'] = np.nan\n",
    "placed_on_IL_events_df['Game_number'] = np.nan\n",
    "placed_on_IL_events_df['Out_for_season'] = None\n",
    "\n",
    "# Iterate over placed_on_IL_events_df\n",
    "for index, row in placed_on_IL_events_df.iterrows():\n",
    "    results = correlate_event_to_game_schedule(team_schedules_df, row.Date, row.Team)\n",
    "    if not results:\n",
    "        continue  # Skip if results are None\n",
    "    game_number_placed_on_IL, game_date_placed_on_IL, season_placed_on_IL, year_placed_on_IL, team_total_num_games = results\n",
    "\n",
    "    activated_events_df = inactive_list_df.loc[(inactive_list_df['Acquired'] == row.Relinquished) & (inactive_list_df['Date'] > row.Date)]\n",
    "\n",
    "    if not activated_events_df.empty:\n",
    "        activated_event = activated_events_df.iloc[0]\n",
    "        game_number_activated, _, season_activated, year_activated, _ = correlate_event_to_game_schedule(team_schedules_df, activated_event.Date, activated_event.Team)\n",
    "\n",
    "        # Ensure 'game_number_activated' and 'game_number_placed_on_IL' are not None\n",
    "        if game_number_activated is None or game_number_placed_on_IL is None:\n",
    "            continue\n",
    "\n",
    "        regular_season_games_missed = 82 - game_number_activated if season_activated == 'regular' else 82 - game_number_placed_on_IL\n",
    "        post_season_games_missed = 0 if season_activated == 'regular' else game_number_activated - 82\n",
    "        out_for_season = 'False'\n",
    "    else:\n",
    "        regular_season_games_missed = 82 - game_number_placed_on_IL if game_number_placed_on_IL is not None else 0\n",
    "        post_season_games_missed = team_total_num_games - 82 if team_total_num_games > 82 else 0\n",
    "        out_for_season = 'True' if game_number_placed_on_IL is None else 'False'\n",
    "\n",
    "    placed_on_IL_events_df.loc[index, 'Reg_games_missed'] = regular_season_games_missed\n",
    "    placed_on_IL_events_df.loc[index, 'Post_games_missed'] = post_season_games_missed\n",
    "    placed_on_IL_events_df.loc[index, 'Out_for_season'] = out_for_season\n",
    "    placed_on_IL_events_df.loc[index, 'Season'] = season_placed_on_IL\n",
    "    placed_on_IL_events_df.loc[index, 'Year'] = year_placed_on_IL\n",
    "    placed_on_IL_events_df.loc[index, 'Game_number'] = game_number_placed_on_IL\n",
    "\n",
    "# Ensure 'Year' is treated as an integer where possible\n",
    "placed_on_IL_events_df['Year'] = pd.to_numeric(placed_on_IL_events_df['Year'], errors='coerce').astype('Int64')\n",
    "#------------Processing - Section 2: Filter Notes --------------------\n",
    "\n",
    "# Apply the notes_filter function to each row and expand the returned tuples into separate columns\n",
    "notes_results = placed_on_IL_events_df.apply(lambda row: notes_filter(row), axis=1, result_type='expand')\n",
    "placed_on_IL_events_df['note_keyword'], placed_on_IL_events_df['category'] = notes_results[0], notes_results[1]\n",
    "\n",
    "# Save processed data\n",
    "save_directory = '/Users/nya/NBA project/NBA Project/02/processed datasets'\n",
    "cleaned_data_path = os.path.join(save_directory, 'movement_data_processed.csv')\n",
    "placed_on_IL_events_df.to_csv(cleaned_data_path, index=False)\n",
    "\n",
    "print(f\"Processed dataset saved to {cleaned_data_path}\")"
   ]
  }
 ],
 "metadata": {
  "kernelspec": {
   "display_name": "venv",
   "language": "python",
   "name": "python3"
  },
  "language_info": {
   "codemirror_mode": {
    "name": "ipython",
    "version": 3
   },
   "file_extension": ".py",
   "mimetype": "text/x-python",
   "name": "python",
   "nbconvert_exporter": "python",
   "pygments_lexer": "ipython3",
   "version": "3.11.7"
  }
 },
 "nbformat": 4,
 "nbformat_minor": 2
}
