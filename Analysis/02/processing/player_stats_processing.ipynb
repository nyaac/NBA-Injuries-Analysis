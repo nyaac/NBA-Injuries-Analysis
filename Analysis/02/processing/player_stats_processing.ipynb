{
 "cells": [
  {
   "cell_type": "code",
   "execution_count": 1,
   "metadata": {},
   "outputs": [
    {
     "name": "stdout",
     "output_type": "stream",
     "text": [
      "Cleaned dataset saved to /Users/nya/NBA project/NBA Project/02/processed datasets/player_stats_processed.csv\n"
     ]
    }
   ],
   "source": [
    "import pandas as pd\n",
    "import os\n",
    "\n",
    "#--------------------------User Inputs---------------------------------\n",
    "\n",
    "stats_file_path = '/Users/nya/NBA project/NBA Project/01/clean datasets/player_stats_cleaned.csv'\n",
    "schedule_file_path = '/Users/nya/NBA project/NBA Project/01/clean datasets/teams_schedule_cleaned.csv'\n",
    "\n",
    "#-------------------------Load Files-----------------------------------\n",
    "\n",
    "player_stats_df = pd.read_csv(stats_file_path)\n",
    "teams_schedule_df = pd.read_csv(schedule_file_path)\n",
    "\n",
    "#-----Feature Engineering - Section 1: Total Minutes and Games Played---------\n",
    "\n",
    "\"\"\" This section will calculating the following for each player in each season (regular/post)/ year they were active:\n",
    "- Total games played in PRIOR seasons (TGP_prior_seasons)\n",
    "- Total minutes played in PRIOR seasons (TMP_prior_seasons)\n",
    "- Total minutes played in CURRENT season (TMP_current_season)\n",
    "\"\"\"\n",
    "\n",
    "#cases where a player has multiple entries for a given regular season. which\n",
    "#usually occurs when a player has been traded mid-season. in the data, there \n",
    "#is a row for the players time with each time and one where 'Tm' == 'TOT' (this\n",
    "#row contains totals across all teams for that season. we want to keep just the \n",
    "#row containing totals)\n",
    "\n",
    "# find  rows which have the same 'year', 'player', and 'season-type'; keep the \"first\" occurence which corresponds to the row containing \"TOT\"\n",
    "rows_to_drop_df = player_stats_df[player_stats_df.duplicated(subset = ['Year', 'Player', 'Season'], keep = 'first')]\n",
    "row_indices_to_drop = rows_to_drop_df.index\n",
    "# drop rows\n",
    "player_stats_df.drop(row_indices_to_drop, inplace = True)\n",
    "\n",
    "#get a list of unique player names\n",
    "unique_player_names = player_stats_df['Player'].unique()\n",
    "# loop through each player\n",
    "for name in unique_player_names:\n",
    "    # find all rows corresponding to a player\n",
    "    single_stats_df = player_stats_df[player_stats_df['Player'] == name].copy()\n",
    "\n",
    "    # calculate total games played in prior seasons\n",
    "    single_stats_df['TGP_prior_seasons'] = single_stats_df['G'].cumsum() - single_stats_df['G']\n",
    "    \n",
    "    # calculate the minutes played in the current season and total minutes played in prior seasons\n",
    "    single_stats_df['TMP_current_season'] = single_stats_df['MPPG'] * single_stats_df['G']\n",
    "    single_stats_df['TMP_prior_seasons'] = single_stats_df['TMP_current_season'].cumsum() - single_stats_df['TMP_current_season']\n",
    "\n",
    "    # update original dataframe\n",
    "    player_stats_df.loc[single_stats_df.index, 'TGP_prior_seasons'] = single_stats_df['TGP_prior_seasons']\n",
    "    player_stats_df.loc[single_stats_df.index, 'TMP_current_season'] = single_stats_df['TMP_current_season']\n",
    "    player_stats_df.loc[single_stats_df.index, 'TMP_prior_seasons'] = single_stats_df['TMP_prior_seasons']\n",
    "\n",
    "#-----------------------Save Data-----------------------------\n",
    "\n",
    "# directory to save cleaned files\n",
    "save_directory = '/Users/nya/NBA project/NBA Project/02/processed datasets'\n",
    "\n",
    "# define filepaths\n",
    "cleaned_data_path = os.path.join(save_directory, 'player_stats_processed.csv')\n",
    "\n",
    "# saving files\n",
    "player_stats_df.to_csv(cleaned_data_path, index=False)\n",
    "\n",
    "print(f\"Cleaned dataset saved to {cleaned_data_path}\")"
   ]
  }
 ],
 "metadata": {
  "kernelspec": {
   "display_name": "venv",
   "language": "python",
   "name": "python3"
  },
  "language_info": {
   "codemirror_mode": {
    "name": "ipython",
    "version": 3
   },
   "file_extension": ".py",
   "mimetype": "text/x-python",
   "name": "python",
   "nbconvert_exporter": "python",
   "pygments_lexer": "ipython3",
   "version": "3.11.7"
  }
 },
 "nbformat": 4,
 "nbformat_minor": 2
}
