{
 "cells": [
  {
   "cell_type": "code",
   "execution_count": 1,
   "metadata": {},
   "outputs": [
    {
     "name": "stdout",
     "output_type": "stream",
     "text": [
      "Processed dataset saved to /Users/nya/NBA project/NBA Project/02/processed datasets/injury_movement_stats_merged.csv\n"
     ]
    }
   ],
   "source": [
    "import numpy as np\n",
    "import pandas as pd\n",
    "import os\n",
    "\n",
    "#--------------------------User Inputs-----------------------------------------\n",
    "stats_file_path = '/Users/nya/NBA project/NBA Project/02/processed datasets/player_stats_processed.csv'\n",
    "injury_file_path = '/Users/nya/NBA project/NBA Project/02/processed datasets/injurydata_processed.csv'\n",
    "movement_file_path = '/Users/nya/NBA project/NBA Project/02/processed datasets/movement_data_processed.csv'\n",
    "\n",
    "#-------------------------Load Files------------------------------------------\n",
    "stats_processed_df = pd.read_csv(stats_file_path)\n",
    "injury_processed_df = pd.read_csv(injury_file_path)\n",
    "movement_processed_df = pd.read_csv(movement_file_path)\n",
    "\n",
    "#------------------------Concatenate injury and movement----------------------\n",
    "injury_processed_df.rename(columns={'Relinquished': 'Player'}, inplace=True)\n",
    "movement_processed_df.rename(columns={'Relinquished': 'Player'}, inplace=True)\n",
    "\n",
    "injury_movement_merge_df = pd.concat([injury_processed_df, movement_processed_df], axis=0)\n",
    "\n",
    "#--------------Merge player stats with injury/movement-----------------------\n",
    "injury_movement_stats_merge_df = pd.merge(injury_movement_merge_df, stats_processed_df, how='left', on=['Player', 'Year', 'Season'])\n",
    "\n",
    "#-----------------Clean up 'Team' column after merge-------------------------\n",
    "injury_movement_stats_merge_df = injury_movement_stats_merge_df.drop(['Team_y'], axis=1)\n",
    "injury_movement_stats_merge_df.rename(columns={'Team_x': 'Team'}, inplace=True)\n",
    "\n",
    "#-----------------Handling NaN values before converting----------------------\n",
    "# Assuming 'Game_number' column is present and you want to fill NaNs with a placeholder\n",
    "injury_movement_stats_merge_df['Game_number'] = injury_movement_stats_merge_df['Game_number'].fillna(-1).astype(int)\n",
    "\n",
    "# Correcting the handling of missing position data based on the provided columns\n",
    "injury_movement_stats_merge_df['Pos'] = injury_movement_stats_merge_df['Pos'].fillna('Unknown')\n",
    "\n",
    "#-----------------------Save Data--------------------------------------------\n",
    "save_directory = '/Users/nya/NBA project/NBA Project/02/processed datasets'\n",
    "merged_file_path = os.path.join(save_directory, 'injury_movement_stats_merged.csv')\n",
    "\n",
    "injury_movement_stats_merge_df.to_csv(merged_file_path, index=False)\n",
    "\n",
    "print(f\"Processed dataset saved to {merged_file_path}\")"
   ]
  }
 ],
 "metadata": {
  "kernelspec": {
   "display_name": "venv",
   "language": "python",
   "name": "python3"
  },
  "language_info": {
   "codemirror_mode": {
    "name": "ipython",
    "version": 3
   },
   "file_extension": ".py",
   "mimetype": "text/x-python",
   "name": "python",
   "nbconvert_exporter": "python",
   "pygments_lexer": "ipython3",
   "version": "3.11.7"
  }
 },
 "nbformat": 4,
 "nbformat_minor": 2
}
