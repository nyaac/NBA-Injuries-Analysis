{
 "cells": [
  {
   "cell_type": "code",
   "execution_count": 1,
   "metadata": {},
   "outputs": [
    {
     "name": "stdout",
     "output_type": "stream",
     "text": [
      "Cleaned dataset saved to /Users/nya/NBA project/NBA Project/02/processed datasets/teams_schedule_processed.csv\n"
     ]
    }
   ],
   "source": [
    "import pandas as pd\n",
    "import os\n",
    "\n",
    "#--------------------------User Inputs---------------------------------\n",
    "\n",
    "schedule_file_path = '/Users/nya/NBA project/NBA Project/01/clean datasets/teams_schedule_cleaned.csv'\n",
    "\n",
    "#-------------------------Load Files-----------------------------------\n",
    "\n",
    "teams_schedule_df = pd.read_csv(schedule_file_path)\n",
    "\n",
    "#-------------------Process Data - Step 1: Add 'season'----------------------\n",
    "\n",
    "# add a column indiciating the season (regular, post)\n",
    "\n",
    "teams_schedule_df['Season'] = ''\n",
    "\n",
    "def season_finder(row):\n",
    "# regular NBA season consists of 82 games in every year\n",
    "    if row['Game_num'] <= 82:\n",
    "        season = 'regular'\n",
    "    else:\n",
    "        season = 'post'\n",
    "    return season\n",
    "\n",
    "teams_schedule_df['Season']= teams_schedule_df.apply(season_finder, axis = 1)\n",
    "\n",
    "#-------------------Process Data - Step 2: Modify 'Away_flag'-----------------------\n",
    "\n",
    "# modify the 'Away_flag' column; '@' = 1, null = 0\n",
    "teams_schedule_df['Away_flag']=teams_schedule_df['Away_flag'].map({'@':1, '':0})\n",
    "\n",
    "# reorder columns\n",
    "teams_schedule_df = teams_schedule_df[['Team', 'Year', 'Season', 'Game_num', 'Date', 'Away_flag', 'Opponent', 'OT_flag']]\n",
    "\n",
    "#-------------------Process Data - Step 2: Modify 'Away_flag'-----------------------\n",
    "\n",
    "# directory to save cleaned files\n",
    "save_directory = '/Users/nya/NBA project/NBA Project/02/processed datasets'\n",
    "\n",
    "# define filepaths\n",
    "cleaned_data_path = os.path.join(save_directory, 'teams_schedule_processed.csv')\n",
    "\n",
    "# saving files\n",
    "teams_schedule_df.to_csv(cleaned_data_path, index=False)\n",
    "\n",
    "print(f\"Cleaned dataset saved to {cleaned_data_path}\")"
   ]
  }
 ],
 "metadata": {
  "kernelspec": {
   "display_name": "venv",
   "language": "python",
   "name": "python3"
  },
  "language_info": {
   "codemirror_mode": {
    "name": "ipython",
    "version": 3
   },
   "file_extension": ".py",
   "mimetype": "text/x-python",
   "name": "python",
   "nbconvert_exporter": "python",
   "pygments_lexer": "ipython3",
   "version": "3.11.7"
  }
 },
 "nbformat": 4,
 "nbformat_minor": 2
}
