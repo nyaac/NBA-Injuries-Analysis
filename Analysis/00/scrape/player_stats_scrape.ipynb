{
 "cells": [
  {
   "cell_type": "markdown",
   "metadata": {},
   "source": [
    "# Code to Scrape the Player Stats for 2013 - 2023"
   ]
  },
  {
   "cell_type": "code",
   "execution_count": 2,
   "metadata": {},
   "outputs": [
    {
     "name": "stdout",
     "output_type": "stream",
     "text": [
      "Scraped 2013 regular and post season player stats\n",
      "Scraped 2014 regular and post season player stats\n",
      "Scraped 2015 regular and post season player stats\n",
      "Scraped 2016 regular and post season player stats\n",
      "Scraped 2017 regular and post season player stats\n",
      "Scraped 2018 regular and post season player stats\n",
      "Scraped 2019 regular and post season player stats\n",
      "Scraped 2020 regular and post season player stats\n",
      "Scraped 2021 regular and post season player stats\n",
      "Scraped 2022 regular and post season player stats\n",
      "Scraped 2023 regular and post season player stats\n",
      "Saving multi-season player stats data to .csv - seasons 2013 - 2023\n"
     ]
    }
   ],
   "source": [
    "#import packages for scraping\n",
    "import os\n",
    "import pandas as pd\n",
    "import time\n",
    "from urllib.request import urlopen\n",
    "from bs4 import BeautifulSoup\n",
    "\n",
    "### -------------------------User Inputs ------------------------------------\n",
    "#save path and output filename\n",
    "savepath_csv = '/Users/nya/NBA project/NBA Project/00/scraped datasets'\n",
    "\n",
    "# NBA seasons we will be analyzing\n",
    "year_list = list(range(2013,2024))\n",
    "\n",
    "#--------------------------Define Functions----------------------------------\n",
    "\n",
    "def stats_scrape(year, season_type):\n",
    "    \n",
    "    \"\"\"\n",
    "    This function scrapes season stats. It has two inputs: year (an integer; i.e. 2017); \n",
    "    and season_type(a string; which is either 'regular' or 'post'). Output is a \n",
    "    dataframe with stats.\n",
    "    \"\"\"\n",
    "    if season_type == 'regular':\n",
    "        url = \"https://www.basketball-reference.com/leagues/NBA_{}_per_game.html\".format(year)\n",
    "    elif season_type == 'post':\n",
    "        url = \"https://www.basketball-reference.com/playoffs/NBA_{}_per_game.html\".format(year)\n",
    "        \n",
    "    html = urlopen(url)\n",
    "    soup = BeautifulSoup(html, features=\"lxml\")\n",
    "\n",
    "    # use findALL() to get the column headers\n",
    "    soup.findAll('tr', limit=1)\n",
    "    # use getText()to extract the text we need into a list\n",
    "    headers = [th.getText() for th in soup.findAll('tr', limit=1)[0].findAll('th')]\n",
    "    # exclude the first column as we will not need the ranking order from Basketball Reference for the analysis\n",
    "    headers = headers[1:]\n",
    "\n",
    "    # avoid the first header row\n",
    "    rows = soup.findAll('tr')[1:]\n",
    "    #scrape data from each row\n",
    "    player_stats = [[td.getText() for td in rows[i].findAll('td')] for i in range(len(rows))]\n",
    "    \n",
    "    #create a pandas dataframe from scraped data\n",
    "    player_stats_df = pd.DataFrame(player_stats, columns = headers)\n",
    "    \n",
    "    #drop empty rows (empty rows exist due to table formatting, not missing data)\n",
    "    player_stats_df.dropna(subset = ['Player'], inplace = True)\n",
    "    \n",
    "    #add a column to indicate year\n",
    "    player_stats_df.insert(0, \"Year\", [year - 1]*(len(player_stats_df.index)))\n",
    "    \n",
    "    #add a column to indicate if stats are for regular season or playoffs\n",
    "    player_stats_df.insert(1, \"Season\", [season_type]*(len(player_stats_df.index)))\n",
    "    \n",
    "    return player_stats_df\n",
    "\n",
    "#--------------------------Scrape Data----------------------------------------\n",
    "  \n",
    "#create empty data frame to hold player stats\n",
    "all_player_stats_df = pd.DataFrame()\n",
    "\n",
    "#loop over season of interests and scrape regular and playoff stats\n",
    "for year in year_list:\n",
    "    reg_season_df = stats_scrape(year, 'regular')\n",
    "    all_player_stats_df=pd.concat([all_player_stats_df,reg_season_df], ignore_index=True)\n",
    "    post_season_df = stats_scrape(year, 'post')\n",
    "    all_player_stats_df=pd.concat([all_player_stats_df,post_season_df], ignore_index=True)\n",
    "    \n",
    "    print('Scraped {} regular and post season player stats'.format(year))\n",
    "    #Add a pause to keep web server happy\n",
    "    time.sleep(7)\n",
    "    \n",
    "#--------------------------Save Data----------------------------------------\n",
    "#save dataframe as  a csv file       \n",
    "print('Saving multi-season player stats data to .csv - seasons {} - {}'.format(year_list[0], year_list[-1]))\n",
    "filename = 'player_stats_{}_{}.csv'.format(year_list[0], year_list[-1])\n",
    "filename= os.path.join(savepath_csv,filename)\n",
    "all_player_stats_df.to_csv(filename)\n"
   ]
  }
 ],
 "metadata": {
  "kernelspec": {
   "display_name": "venv",
   "language": "python",
   "name": "python3"
  },
  "language_info": {
   "codemirror_mode": {
    "name": "ipython",
    "version": 3
   },
   "file_extension": ".py",
   "mimetype": "text/x-python",
   "name": "python",
   "nbconvert_exporter": "python",
   "pygments_lexer": "ipython3",
   "version": "3.11.7"
  }
 },
 "nbformat": 4,
 "nbformat_minor": 2
}
