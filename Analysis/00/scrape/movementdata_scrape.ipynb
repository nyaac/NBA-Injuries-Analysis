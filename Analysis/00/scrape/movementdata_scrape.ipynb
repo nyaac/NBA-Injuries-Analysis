{
 "cells": [
  {
   "cell_type": "markdown",
   "metadata": {},
   "source": [
    "# Code to Scrape 'Movement to/from injured/inactive list (IL)'"
   ]
  },
  {
   "cell_type": "code",
   "execution_count": 2,
   "metadata": {},
   "outputs": [
    {
     "name": "stdout",
     "output_type": "stream",
     "text": [
      "NBA Movement to/from Injured/Inactive  Data:\n",
      "             Date      Team          Acquired       Relinquished  \\\n",
      "0      2013-10-29     76ers                     Jason Richardson   \n",
      "1      2013-10-29     76ers                         Nerlens Noel   \n",
      "2      2013-10-29  Clippers                         Maalik Wayns   \n",
      "3      2013-10-29      Heat                            Greg Oden   \n",
      "4      2013-10-29      Heat                      Roger Mason Jr.   \n",
      "...           ...       ...               ...                ...   \n",
      "17750  2023-05-25      Heat                         Gabe Vincent   \n",
      "17751  2023-05-27   Celtics                      Malcolm Brogdon   \n",
      "17752  2023-05-27      Heat      Gabe Vincent                      \n",
      "17753  2023-05-29   Celtics   Malcolm Brogdon                      \n",
      "17754  2023-06-12      Heat       Tyler Herro                      \n",
      "\n",
      "                                                   Notes  \n",
      "0      placed on IL recovering from surgery on left k...  \n",
      "1      placed on IL recovering from surgery on left k...  \n",
      "2      placed on IL recovering from surgery on left k...  \n",
      "3                      placed on IL with surgery on knee  \n",
      "4                                           placed on IL  \n",
      "...                                                  ...  \n",
      "17750              placed on IL with sprained left ankle  \n",
      "17751           placed on IL with strained right forearm  \n",
      "17752                                  activated from IL  \n",
      "17753                                  activated from IL  \n",
      "17754                                  activated from IL  \n",
      "\n",
      "[17755 rows x 5 columns]\n",
      "DataFrame saved as CSV file in /Users/nya/NBA project/NBA Project/raw datasets/nba_movement_data.csv.\n"
     ]
    }
   ],
   "source": [
    "import requests\n",
    "from bs4 import BeautifulSoup\n",
    "import pandas as pd\n",
    "from datetime import datetime, timedelta\n",
    "import os\n",
    "\n",
    "#-----------------------------------------Defind Function ----------------------------------------\n",
    "# Function to scrape NBA injury data\n",
    "def scrape_nba_movement_data(start_date, end_date):\n",
    "    all_data = []  # List to store data from all pages\n",
    "\n",
    "    # Convert start_date and end_date strings to datetime objects\n",
    "    start_date = datetime.strptime(start_date, '%Y-%m-%d')\n",
    "    end_date = datetime.strptime(end_date, '%Y-%m-%d')\n",
    "\n",
    "    current_date = start_date\n",
    "    while current_date <= end_date:\n",
    "        url = f\"https://prosportstransactions.com/basketball/Search/SearchResults.php?Player=&Team=&BeginDate={current_date.strftime('%Y-%m-%d')}&EndDate={current_date.strftime('%Y-%m-%d')}&ILChkBx=yes&Submit=Search\"\n",
    "        response = requests.get(url)\n",
    "        soup = BeautifulSoup(response.content, 'html.parser')\n",
    "        \n",
    "        # Extracting table data\n",
    "        table = soup.find('table', {'class': 'datatable'})\n",
    "        if table is not None:\n",
    "            rows = table.find_all('tr')\n",
    "            for row in rows[1:]:  # Skip the header row\n",
    "                cols = row.find_all('td')\n",
    "                # Remove bullet points from Acquired and Relinquished columns\n",
    "                cols = [col.text.strip().replace('•', '') for col in cols]\n",
    "                all_data.append(cols)\n",
    "        \n",
    "        current_date += timedelta(days=1)\n",
    "#------------------------Scrape Data--------------------------------------        \n",
    "    # Converting to DataFrame\n",
    "    df = pd.DataFrame(all_data, columns=['Date', 'Team', 'Acquired', 'Relinquished', 'Notes'])\n",
    "    return df\n",
    "\n",
    "movement_data = scrape_nba_movement_data('2013-10-29', '2023-06-12')\n",
    "if not movement_data.empty:\n",
    "    print(\"NBA Movement to/from Injured/Inactive  Data:\")\n",
    "    print(movement_data)\n",
    "    \n",
    "    #------------------------Save Data--------------------------------------\n",
    "    # define folder path\n",
    "    savepath_csv = '/Users/nya/NBA project/NBA Project/00/scraped datasets'\n",
    "    # Save DataFrame to CSV file\n",
    "    file_path = os.path.join(savepath_csv, 'nba_movement_data.csv')\n",
    "    movement_data.to_csv(file_path, index=False)\n",
    "    print(f\"DataFrame saved as CSV file in {file_path}.\")"
   ]
  }
 ],
 "metadata": {
  "kernelspec": {
   "display_name": "venv",
   "language": "python",
   "name": "python3"
  },
  "language_info": {
   "codemirror_mode": {
    "name": "ipython",
    "version": 3
   },
   "file_extension": ".py",
   "mimetype": "text/x-python",
   "name": "python",
   "nbconvert_exporter": "python",
   "pygments_lexer": "ipython3",
   "version": "3.11.7"
  }
 },
 "nbformat": 4,
 "nbformat_minor": 2
}
