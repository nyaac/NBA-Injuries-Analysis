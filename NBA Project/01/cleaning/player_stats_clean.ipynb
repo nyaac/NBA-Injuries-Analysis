{
 "cells": [
  {
   "cell_type": "code",
   "execution_count": 1,
   "metadata": {},
   "outputs": [
    {
     "name": "stdout",
     "output_type": "stream",
     "text": [
      "Cleaned dataset saved to /Users/nya/NBA project/NBA Project/01/clean datasets/player_stats_cleaned.csv\n",
      "Unique player names saved to /Users/nya/NBA project/NBA Project/01/clean datasets/unique_player_names.csv\n"
     ]
    }
   ],
   "source": [
    "import pandas as pd\n",
    "import pickle\n",
    "import unicodedata\n",
    "import os\n",
    "\n",
    "#--------------------------Define Function---------------------------------\n",
    "\n",
    "def strip_accents(s):\n",
    "    return ''.join(c for c in unicodedata.normalize('NFD', s) if unicodedata.category(c) != 'Mn')\n",
    "\n",
    "#--------------------------User Inputs---------------------------------\n",
    "\n",
    "team_pickple_path = '/Users/nya/NBA project/NBA Project/utilities/teams_abrv_dictionary.p'\n",
    "\n",
    "#--------------------------Load Files---------------------------------\n",
    "\n",
    "player_df = pd.read_csv('/Users/nya/NBA project/NBA Project/00/scraped datasets/player_stats_2013_2023.csv')\n",
    "team_name_dict = pickle.load(open(team_pickple_path, \"rb\"))\n",
    "\n",
    "#-------------------Clean Data - Section 1: Player Names----------------------\n",
    "\n",
    "# clean up player names\n",
    "# strip accents, removing '*' from player names\n",
    "player_df['Player'] = player_df['Player'].apply(strip_accents)\n",
    "player_df['Player'] = player_df['Player'].replace(regex=['\\*'], value='')\n",
    "# removing periods from player names\n",
    "player_df['Player'] = player_df['Player'].replace('/.', '', regex=True)\n",
    "# removing extra white spaces from player names\n",
    "player_df['Player'] = player_df['Player'].str.strip()\n",
    "\n",
    "#----------------- Clean Data - Section 2: Format Team Names------------------\n",
    "\n",
    "# change team abbreviations to the full team name\n",
    "player_df['Tm'] = player_df['Tm'].replace(team_name_dict)\n",
    "\n",
    "#----------------- Clean Data - Section 3: Format Dataset------------------\n",
    "\n",
    "# removing first column in dataset\n",
    "player_df.drop(player_df.columns[0], axis=1, inplace=True)\n",
    "\n",
    "# dropping columns that won't be used for analysis \n",
    "columns_to_drop = ['FG', 'FGA', 'FG%', '3P', '3PA', '3P%', '2P', '2PA', '2P%', 'eFG%', 'FT', 'FTA', 'FT%', 'ORB', 'DRB', 'TRB', 'AST', 'STL', 'BLK', 'TOV', 'PF', 'PTS']\n",
    "player_df.drop(columns_to_drop, axis=1, inplace=True)\n",
    "\n",
    "# changing column names\n",
    "player_df.columns = ['Year', 'Season', 'Player', 'Pos', 'Age', 'Team', 'G', 'GS', 'MPPG']\n",
    "# creating a panda series containing unique player names\n",
    "player_unique_df = player_df.drop_duplicates('Player')\n",
    "player_names_series = player_unique_df['Player']\n",
    "\n",
    "#-----------------------Save Cleaned Data-----------------------------\n",
    "\n",
    "# directory to save cleaned files\n",
    "save_directory = '/Users/nya/NBA project/NBA Project/01/clean datasets'\n",
    "\n",
    "# define filepaths\n",
    "cleaned_data_path = os.path.join(save_directory, 'player_stats_cleaned.csv')\n",
    "unique_player_names_path = os.path.join(save_directory, 'unique_player_names.csv')\n",
    "\n",
    "# saving files\n",
    "player_df.to_csv(cleaned_data_path, index=False)\n",
    "player_names_series.to_csv(unique_player_names_path, index=False)\n",
    "\n",
    "print(f\"Cleaned dataset saved to {cleaned_data_path}\")\n",
    "print(f\"Unique player names saved to {unique_player_names_path}\")"
   ]
  }
 ],
 "metadata": {
  "kernelspec": {
   "display_name": "venv",
   "language": "python",
   "name": "python3"
  },
  "language_info": {
   "codemirror_mode": {
    "name": "ipython",
    "version": 3
   },
   "file_extension": ".py",
   "mimetype": "text/x-python",
   "name": "python",
   "nbconvert_exporter": "python",
   "pygments_lexer": "ipython3",
   "version": "3.11.7"
  }
 },
 "nbformat": 4,
 "nbformat_minor": 2
}
