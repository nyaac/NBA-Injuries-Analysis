{
 "cells": [
  {
   "cell_type": "markdown",
   "metadata": {},
   "source": [
    "# Code to Scrape 'Missed games due to injury'"
   ]
  },
  {
   "cell_type": "code",
   "execution_count": 1,
   "metadata": {},
   "outputs": [
    {
     "name": "stdout",
     "output_type": "stream",
     "text": [
      "NBA Injury Data:\n",
      "            Date       Team         Acquired                    Relinquished  \\\n",
      "0     2013-10-29      Bucks                                   Carlos Delfino   \n",
      "1     2013-10-29  Cavaliers                                    Carrick Felix   \n",
      "2     2013-10-29    Celtics                                      Rajon Rondo   \n",
      "3     2013-10-29      Hawks                    Louis Williams / Lou Williams   \n",
      "4     2013-10-29      Magic                                       Doron Lamb   \n",
      "...          ...        ...              ...                             ...   \n",
      "9673  2023-04-30     Knicks   Quentin Grimes                                   \n",
      "9674  2023-05-02     Knicks    Julius Randle                                   \n",
      "9675  2023-05-02       Suns                                       Chris Paul   \n",
      "9676  2023-05-10     Knicks                                    Evan Fournier   \n",
      "9677  2023-05-11       Suns                                    Deandre Ayton   \n",
      "\n",
      "                                                  Notes  \n",
      "0     recovering from surgery on right foot (out ind...  \n",
      "1                      sports hernia (out indefinitely)  \n",
      "2     recovering from surgery on left knee to repair...  \n",
      "3     recovering from surgery on right knee (out ind...  \n",
      "4                            sprained right ankle (DNP)  \n",
      "...                                                 ...  \n",
      "9673                                 returned to lineup  \n",
      "9674                                 returned to lineup  \n",
      "9675                 left groin injury (out for season)  \n",
      "9676                           illness (out for season)  \n",
      "9677                   bruised ribcage (out for season)  \n",
      "\n",
      "[9678 rows x 5 columns]\n",
      "DataFrame saved as CSV file in /Users/nya/NBA project/NBA Project/raw datasets/nba_injury_data.csv.\n"
     ]
    }
   ],
   "source": [
    "import requests\n",
    "from bs4 import BeautifulSoup\n",
    "import pandas as pd\n",
    "from datetime import datetime, timedelta\n",
    "import os\n",
    "\n",
    "#-----------------------------------------Defind Function ----------------------------------------\n",
    "# Function to scrape NBA injury data\n",
    "def scrape_nba_injury_data(start_date, end_date):\n",
    "    all_data = []  # List to store data from all pages\n",
    "\n",
    "    # Convert start_date and end_date strings to datetime objects\n",
    "    start_date = datetime.strptime(start_date, '%Y-%m-%d')\n",
    "    end_date = datetime.strptime(end_date, '%Y-%m-%d')\n",
    "\n",
    "    current_date = start_date\n",
    "    while current_date <= end_date:\n",
    "        url = f\" https://prosportstransactions.com/basketball/Search/SearchResults.php?Player=&Team=&BeginDate={current_date.strftime('%Y-%m-%d')}&EndDate={current_date.strftime('%Y-%m-%d')}&InjuriesChkBx=yes&Submit=Search\"\n",
    "        response = requests.get(url)\n",
    "        soup = BeautifulSoup(response.content, 'html.parser')\n",
    "        \n",
    "        # Extracting table data\n",
    "        table = soup.find('table', {'class': 'datatable'})\n",
    "        if table is not None:\n",
    "            rows = table.find_all('tr')\n",
    "            for row in rows[1:]:  # Skip the header row\n",
    "                cols = row.find_all('td')\n",
    "                # Remove bullet points from Acquired and Relinquished columns\n",
    "                cols = [col.text.strip().replace('•', '') for col in cols]\n",
    "                all_data.append(cols)\n",
    "        \n",
    "        current_date += timedelta(days=1)\n",
    "#-----------------------------------------Scrape Data----------------------------------------        \n",
    "    # Converting to DataFrame\n",
    "    df = pd.DataFrame(all_data, columns=['Date', 'Team', 'Acquired', 'Relinquished', 'Notes'])\n",
    "    return df\n",
    "injury_data = scrape_nba_injury_data('2013-10-29', '2023-06-12')\n",
    "if not injury_data.empty:\n",
    "    print(\"NBA Injury Data:\")\n",
    "    print(injury_data)\n",
    "    #-----------------------------------------Save Data----------------------------------------\n",
    "    # define folder path\n",
    "    savepath_csv = '/Users/nya/NBA project/NBA Project/00/scraped datasets'\n",
    "    # Save DataFrame to CSV file\n",
    "    file_path = os.path.join(savepath_csv, 'nba_injury_data.csv')\n",
    "    injury_data.to_csv(file_path, index=False)\n",
    "    print(f\"DataFrame saved as CSV file in {file_path}.\")"
   ]
  }
 ],
 "metadata": {
  "kernelspec": {
   "display_name": "venv",
   "language": "python",
   "name": "python3"
  },
  "language_info": {
   "codemirror_mode": {
    "name": "ipython",
    "version": 3
   },
   "file_extension": ".py",
   "mimetype": "text/x-python",
   "name": "python",
   "nbconvert_exporter": "python",
   "pygments_lexer": "ipython3",
   "version": "3.11.7"
  }
 },
 "nbformat": 4,
 "nbformat_minor": 2
}
